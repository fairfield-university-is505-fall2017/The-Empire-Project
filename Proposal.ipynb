{
 "cells": [
  {
   "cell_type": "markdown",
   "metadata": {},
   "source": [
    "# The Empire's Greatest Threat: Medical Appointment No Shows\n",
    "### Data Set\n",
    "- 15 Columns\n",
    "- 300K rows\n",
    "\n",
    "## Business Applications\n",
    "The Empire is facing a serious problem with Stormtroopers & Officers not turning up for scheduled medical appointments. This take up resources in the form of time wasted by losing a slot that a different Stromtroopere could have taken by not turning up. We have been tasked to come up with a logistic regression model that can be used to predict whether a person will make their appointment that is more accurate than the Force. Failure to do so will encur the wrath of the Emperor.\n",
    "\n",
    "## Research Questions\n",
    "* Number of appointments per day\n",
    "* Number of troopers with pre existing conditions (% of pop)\n",
    "* Average number of appointments made at different times throughout the day\n",
    "* Investigate the relationship between neighbourhood and no-show\n",
    "* Age, gender and pre existing conditions summary\n",
    "* Examining relationship with neighbourhood, and pre existing condition/age/no show\n",
    "* A logistic regression model that predicts how likely somebody is to make an appointment\n",
    "* Investigate if Region can be a factor for not showing up (policies in area)"
   ]
  },
  {
   "cell_type": "code",
   "execution_count": null,
   "metadata": {
    "collapsed": true
   },
   "outputs": [],
   "source": []
  }
 ],
 "metadata": {
  "kernelspec": {
   "display_name": "Python 3",
   "language": "python",
   "name": "python3"
  },
  "language_info": {
   "codemirror_mode": {
    "name": "ipython",
    "version": 3
   },
   "file_extension": ".py",
   "mimetype": "text/x-python",
   "name": "python",
   "nbconvert_exporter": "python",
   "pygments_lexer": "ipython3",
   "version": "3.6.1"
  }
 },
 "nbformat": 4,
 "nbformat_minor": 2
}
