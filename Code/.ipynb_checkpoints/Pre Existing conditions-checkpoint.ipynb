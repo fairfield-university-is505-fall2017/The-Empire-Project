{
 "cells": [
  {
   "cell_type": "code",
   "execution_count": 1,
   "metadata": {},
   "outputs": [
    {
     "name": "stderr",
     "output_type": "stream",
     "text": [
      "C:\\Users\\conor\\Anaconda3\\lib\\site-packages\\sklearn\\cross_validation.py:41: DeprecationWarning: This module was deprecated in version 0.18 in favor of the model_selection module into which all the refactored classes and functions are moved. Also note that the interface of the new CV iterators are different from that of this module. This module will be removed in 0.20.\n",
      "  \"This module will be removed in 0.20.\", DeprecationWarning)\n"
     ]
    },
    {
     "name": "stdout",
     "output_type": "stream",
     "text": [
      "      PatientId  AppointmentID Gender        ScheduledDay AppointmentDay  Age  \\\n",
      "0  2.987250e+13        5642903      F 2016-04-29 18:38:08     2016-04-29   62   \n",
      "1  5.589978e+14        5642503      M 2016-04-29 16:08:27     2016-04-29   56   \n",
      "2  4.262962e+12        5642549      F 2016-04-29 16:19:04     2016-04-29   62   \n",
      "3  8.679512e+11        5642828      F 2016-04-29 17:29:31     2016-04-29    8   \n",
      "4  8.841186e+12        5642494      F 2016-04-29 16:07:23     2016-04-29   56   \n",
      "5  9.598513e+13        5626772      F 2016-04-27 08:36:51     2016-04-29   76   \n",
      "6  7.336882e+14        5630279      F 2016-04-27 15:05:12     2016-04-29   23   \n",
      "7  3.449833e+12        5630575      F 2016-04-27 15:39:58     2016-04-29   39   \n",
      "8  5.639473e+13        5638447      F 2016-04-29 08:02:16     2016-04-29   21   \n",
      "9  7.812456e+13        5629123      F 2016-04-27 12:48:25     2016-04-29   19   \n",
      "\n",
      "       Neighbourhood  Scholarship  Hypertension  Diabetes  Alcoholism  \\\n",
      "0    JARDIM DA PENHA            0             1         0           0   \n",
      "1    JARDIM DA PENHA            0             0         0           0   \n",
      "2      MATA DA PRAIA            0             0         0           0   \n",
      "3  PONTAL DE CAMBURI            0             0         0           0   \n",
      "4    JARDIM DA PENHA            0             1         1           0   \n",
      "5          REPÚBLICA            0             1         0           0   \n",
      "6         GOIABEIRAS            0             0         0           0   \n",
      "7         GOIABEIRAS            0             0         0           0   \n",
      "8         ANDORINHAS            0             0         0           0   \n",
      "9          CONQUISTA            0             0         0           0   \n",
      "\n",
      "   Disabled  SMS Received No-show  \n",
      "0         0             0      No  \n",
      "1         0             0      No  \n",
      "2         0             0      No  \n",
      "3         0             0      No  \n",
      "4         0             0      No  \n",
      "5         0             0      No  \n",
      "6         0             0     Yes  \n",
      "7         0             0     Yes  \n",
      "8         0             0      No  \n",
      "9         0             0      No  \n"
     ]
    }
   ],
   "source": [
    "import numpy as np\n",
    "import pandas as pd\n",
    "import sklearn as sk\n",
    "import seaborn as sb\n",
    "import datetime as dt\n",
    "import matplotlib.pyplot as plt\n",
    "from sklearn import preprocessing\n",
    "from sklearn.linear_model import LogisticRegression\n",
    "from sklearn.cross_validation import train_test_split\n",
    "from sklearn import metrics \n",
    "from sklearn.metrics import classification_report\n",
    "\n",
    "\n",
    "\n",
    "from sklearn.cross_validation import cross_val_score\n",
    "%matplotlib inline\n",
    "\n",
    "\n",
    "#Reading in our data and checking the first 10 rows\n",
    "medical_data=pd.read_csv('KaggleV2-May-2016.csv',header=0,parse_dates=['ScheduledDay','AppointmentDay'],na_values='',names=['PatientId','AppointmentID','Gender','ScheduledDay','AppointmentDay','Age','Neighbourhood','Scholarship','Hypertension','Diabetes','Alcoholism','Disabled','SMS Received','No-show' ])\n",
    "print(medical_data.head(10))\n",
    "\n",
    "def add_col(dataframe,newcolname,names):\n",
    "    dataframe[newcolname]=0\n",
    "    for i in names:\n",
    "        dataframe[newcolname]=dataframe[newcolname]+dataframe[i]\n",
    "        \n",
    "add_col(medical_data,'Pre-Existing Cond',['Hypertension','Diabetes','Alcoholism','Disabled'])"
   ]
  },
  {
   "cell_type": "code",
   "execution_count": 8,
   "metadata": {},
   "outputs": [
    {
     "data": {
      "text/plain": [
       "<matplotlib.axes._subplots.AxesSubplot at 0x22f49146128>"
      ]
     },
     "execution_count": 8,
     "metadata": {},
     "output_type": "execute_result"
    },
    {
     "data": {
      "image/png": "[encoded data removed]",
      "text/plain": [
       "<matplotlib.figure.Figure at 0x22f491a69e8>"
      ]
     },
     "metadata": {},
     "output_type": "display_data"
    }
   ],
   "source": [
    "medical_data['Pre-Existing Cond'].value_counts().plot(kind='bar')"
   ]
  },
  {
   "cell_type": "code",
   "execution_count": 12,
   "metadata": {},
   "outputs": [
    {
     "name": "stdout",
     "output_type": "stream",
     "text": [
      "0     True\n",
      "1    False\n",
      "2    False\n",
      "3    False\n",
      "4     True\n",
      "Name: Pre-Existing Cond, dtype: bool\n",
      "0     No\n",
      "4     No\n",
      "5     No\n",
      "25    No\n",
      "26    No\n",
      "Name: No-show, dtype: object\n"
     ]
    }
   ],
   "source": [
    "pre_con=medical_data['Pre-Existing Cond']>0\n",
    "print(pre_con.head())\n",
    "x=medical_data['No-show'][pre_con]\n",
    "print(x.head())"
   ]
  },
  {
   "cell_type": "code",
   "execution_count": 13,
   "metadata": {},
   "outputs": [
    {
     "data": {
      "text/plain": [
       "<matplotlib.axes._subplots.AxesSubplot at 0x22f491a6f60>"
      ]
     },
     "execution_count": 13,
     "metadata": {},
     "output_type": "execute_result"
    },
    {
     "data": {
      "image/png": "[encoded data removed]",
      "text/plain": [
       "<matplotlib.figure.Figure at 0x22f49e68a58>"
      ]
     },
     "metadata": {},
     "output_type": "display_data"
    }
   ],
   "source": [
    "x.value_counts().plot(kind='bar')"
   ]
  },
  {
   "cell_type": "code",
   "execution_count": null,
   "metadata": {
    "collapsed": true
   },
   "outputs": [],
   "source": []
  }
 ],
 "metadata": {
  "kernelspec": {
   "display_name": "Python 3",
   "language": "python",
   "name": "python3"
  },
  "language_info": {
   "codemirror_mode": {
    "name": "ipython",
    "version": 3
   },
   "file_extension": ".py",
   "mimetype": "text/x-python",
   "name": "python",
   "nbconvert_exporter": "python",
   "pygments_lexer": "ipython3",
   "version": "3.6.1"
  }
 },
 "nbformat": 4,
 "nbformat_minor": 2
}
