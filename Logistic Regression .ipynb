{
 "cells": [
  {
   "cell_type": "code",
   "execution_count": 26,
   "metadata": {
    "scrolled": false
   },
   "outputs": [
    {
     "name": "stdout",
     "output_type": "stream",
     "text": [
      "      PatientId  AppointmentID Gender        ScheduledDay AppointmentDay  Age  \\\n",
      "0  2.987250e+13        5642903      F 2016-04-29 18:38:08     2016-04-29   62   \n",
      "1  5.589978e+14        5642503      M 2016-04-29 16:08:27     2016-04-29   56   \n",
      "2  4.262962e+12        5642549      F 2016-04-29 16:19:04     2016-04-29   62   \n",
      "3  8.679512e+11        5642828      F 2016-04-29 17:29:31     2016-04-29    8   \n",
      "4  8.841186e+12        5642494      F 2016-04-29 16:07:23     2016-04-29   56   \n",
      "5  9.598513e+13        5626772      F 2016-04-27 08:36:51     2016-04-29   76   \n",
      "6  7.336882e+14        5630279      F 2016-04-27 15:05:12     2016-04-29   23   \n",
      "7  3.449833e+12        5630575      F 2016-04-27 15:39:58     2016-04-29   39   \n",
      "8  5.639473e+13        5638447      F 2016-04-29 08:02:16     2016-04-29   21   \n",
      "9  7.812456e+13        5629123      F 2016-04-27 12:48:25     2016-04-29   19   \n",
      "\n",
      "       Neighbourhood  Scholarship  Hypertension  Diabetes  Alcoholism  \\\n",
      "0    JARDIM DA PENHA            0             1         0           0   \n",
      "1    JARDIM DA PENHA            0             0         0           0   \n",
      "2      MATA DA PRAIA            0             0         0           0   \n",
      "3  PONTAL DE CAMBURI            0             0         0           0   \n",
      "4    JARDIM DA PENHA            0             1         1           0   \n",
      "5          REPÚBLICA            0             1         0           0   \n",
      "6         GOIABEIRAS            0             0         0           0   \n",
      "7         GOIABEIRAS            0             0         0           0   \n",
      "8         ANDORINHAS            0             0         0           0   \n",
      "9          CONQUISTA            0             0         0           0   \n",
      "\n",
      "   Disabled  SMS Received No-show  \n",
      "0         0             0      No  \n",
      "1         0             0      No  \n",
      "2         0             0      No  \n",
      "3         0             0      No  \n",
      "4         0             0      No  \n",
      "5         0             0      No  \n",
      "6         0             0     Yes  \n",
      "7         0             0     Yes  \n",
      "8         0             0      No  \n",
      "9         0             0      No  \n"
     ]
    }
   ],
   "source": [
    "import numpy as np\n",
    "import pandas as pd\n",
    "import sklearn as sk\n",
    "import seaborn as sb\n",
    "import datetime as dt\n",
    "import matplotlib.pyplot as plt\n",
    "from sklearn import preprocessing\n",
    "from sklearn.linear_model import LogisticRegression\n",
    "from sklearn.cross_validation import train_test_split\n",
    "from sklearn import metrics \n",
    "from sklearn.metrics import classification_report\n",
    "\n",
    "from sklearn.cross_validation import cross_val_score\n",
    "%matplotlib inline\n",
    "\n",
    "\n",
    "#Reading in our data and checking the first 10 rows\n",
    "medical_data=pd.read_csv('KaggleV2-May-2016.csv',header=0,parse_dates=['ScheduledDay','AppointmentDay'],na_values='',names=['PatientId','AppointmentID','Gender','ScheduledDay','AppointmentDay','Age','Neighbourhood','Scholarship','Hypertension','Diabetes','Alcoholism','Disabled','SMS Received','No-show' ])\n",
    "print(medical_data.head(10))"
   ]
  },
  {
   "cell_type": "code",
   "execution_count": 27,
   "metadata": {},
   "outputs": [
    {
     "name": "stdout",
     "output_type": "stream",
     "text": [
      "PatientId                float64\n",
      "AppointmentID              int64\n",
      "Gender                    object\n",
      "ScheduledDay      datetime64[ns]\n",
      "AppointmentDay    datetime64[ns]\n",
      "Age                        int64\n",
      "Neighbourhood             object\n",
      "Scholarship                int64\n",
      "Hypertension               int64\n",
      "Diabetes                   int64\n",
      "Alcoholism                 int64\n",
      "Disabled                   int64\n",
      "SMS Received               int64\n",
      "No-show                   object\n",
      "dtype: object\n"
     ]
    }
   ],
   "source": [
    "#Making sure our variables are the correct data type\n",
    "print(medical_data.dtypes)"
   ]
  },
  {
   "cell_type": "code",
   "execution_count": 28,
   "metadata": {},
   "outputs": [
    {
     "name": "stdout",
     "output_type": "stream",
     "text": [
      "0    0\n",
      "1    0\n",
      "2    0\n",
      "3    0\n",
      "4    0\n",
      "5    0\n",
      "6    1\n",
      "7    1\n",
      "8    0\n",
      "9    0\n",
      "Name: No-show, dtype: int64\n"
     ]
    }
   ],
   "source": [
    "#Creating dictionary that holds the mapping\n",
    "show_mapping={'No':0,'Yes':1}\n",
    "#Using the replace function to replace our strings with integers\n",
    "medical_data=medical_data.replace({'No-show': show_mapping})\n",
    "\n",
    "#Checking we have successfully changed our variable\n",
    "print(medical_data['No-show'].head(10))"
   ]
  },
  {
   "cell_type": "code",
   "execution_count": 29,
   "metadata": {},
   "outputs": [
    {
     "name": "stdout",
     "output_type": "stream",
     "text": [
      "81\n",
      "{'JARDIM DA PENHA': 0, 'MATA DA PRAIA': 1, 'PONTAL DE CAMBURI': 2, 'REPÚBLICA': 3, 'GOIABEIRAS': 4, 'ANDORINHAS': 5, 'CONQUISTA': 6, 'NOVA PALESTINA': 7, 'DA PENHA': 8, 'TABUAZEIRO': 9, 'BENTO FERREIRA': 10, 'SÃO PEDRO': 11, 'SANTA MARTHA': 12, 'SÃO CRISTÓVÃO': 13, 'MARUÍPE': 14, 'GRANDE VITÓRIA': 15, 'SÃO BENEDITO': 16, 'ILHA DAS CAIEIRAS': 17, 'SANTO ANDRÉ': 18, 'SOLON BORGES': 19, 'BONFIM': 20, 'JARDIM CAMBURI': 21, 'MARIA ORTIZ': 22, 'JABOUR': 23, 'ANTÔNIO HONÓRIO': 24, 'RESISTÊNCIA': 25, 'ILHA DE SANTA MARIA': 26, 'JUCUTUQUARA': 27, 'MONTE BELO': 28, 'MÁRIO CYPRESTE': 29, 'SANTO ANTÔNIO': 30, 'BELA VISTA': 31, 'PRAIA DO SUÁ': 32, 'SANTA HELENA': 33, 'ITARARÉ': 34, 'INHANGUETÁ': 35, 'UNIVERSITÁRIO': 36, 'SÃO JOSÉ': 37, 'REDENÇÃO': 38, 'SANTA CLARA': 39, 'CENTRO': 40, 'PARQUE MOSCOSO': 41, 'DO MOSCOSO': 42, 'SANTOS DUMONT': 43, 'CARATOÍRA': 44, 'ARIOVALDO FAVALESSA': 45, 'ILHA DO FRADE': 46, 'GURIGICA': 47, 'JOANA D´ARC': 48, 'CONSOLAÇÃO': 49, 'PRAIA DO CANTO': 50, 'BOA VISTA': 51, 'MORADA DE CAMBURI': 52, 'SANTA LUÍZA': 53, 'SANTA LÚCIA': 54, 'BARRO VERMELHO': 55, 'ESTRELINHA': 56, 'FORTE SÃO JOÃO': 57, 'FONTE GRANDE': 58, 'ENSEADA DO SUÁ': 59, 'SANTOS REIS': 60, 'PIEDADE': 61, 'JESUS DE NAZARETH': 62, 'SANTA TEREZA': 63, 'CRUZAMENTO': 64, 'ILHA DO PRÍNCIPE': 65, 'ROMÃO': 66, 'COMDUSA': 67, 'SANTA CECÍLIA': 68, 'VILA RUBIM': 69, 'DE LOURDES': 70, 'DO QUADRO': 71, 'DO CABRAL': 72, 'HORTO': 73, 'SEGURANÇA DO LAR': 74, 'ILHA DO BOI': 75, 'FRADINHOS': 76, 'NAZARETH': 77, 'AEROPORTO': 78, 'ILHAS OCEÂNICAS DE TRINDADE': 79, 'PARQUE INDUSTRIAL': 80}\n"
     ]
    }
   ],
   "source": [
    "# Creating a deepcopy of the data so changes in this copy will not affect the original dataframe\n",
    "medical_data_copy=pd.DataFrame.copy(medical_data)\n",
    "\n",
    "regions=medical_data_copy['Neighbourhood'].unique()\n",
    "print(len(regions))\n",
    "numeric_val=range(0,81)\n",
    "my_dict_neigh=dict(zip(regions,numeric_val))\n",
    "print(my_dict_neigh)\n",
    "\n",
    "\n",
    "#Using the replace function to replace our strings with integers\n",
    "medical_data_copy=medical_data_copy.replace({'Neighbourhood': my_dict_neigh})"
   ]
  },
  {
   "cell_type": "code",
   "execution_count": 22,
   "metadata": {},
   "outputs": [
    {
     "ename": "AttributeError",
     "evalue": "type object 'datetime.datetime' has no attribute 'timedelta'",
     "output_type": "error",
     "traceback": [
      "\u001b[1;31m---------------------------------------------------------------------------\u001b[0m",
      "\u001b[1;31mAttributeError\u001b[0m                            Traceback (most recent call last)",
      "\u001b[1;32m<ipython-input-22-56891a05d86d>\u001b[0m in \u001b[0;36m<module>\u001b[1;34m()\u001b[0m\n\u001b[0;32m      1\u001b[0m \u001b[1;31m# Create the difference in days variable for our table\u001b[0m\u001b[1;33m\u001b[0m\u001b[1;33m\u001b[0m\u001b[0m\n\u001b[0;32m      2\u001b[0m \u001b[0mmedical_data_copy\u001b[0m\u001b[1;33m[\u001b[0m\u001b[1;34m'Difference'\u001b[0m\u001b[1;33m]\u001b[0m \u001b[1;33m=\u001b[0m \u001b[0mmedical_data_copy\u001b[0m\u001b[1;33m[\u001b[0m\u001b[1;34m'AppointmentDay'\u001b[0m\u001b[1;33m]\u001b[0m\u001b[1;33m.\u001b[0m\u001b[0msub\u001b[0m\u001b[1;33m(\u001b[0m\u001b[0mmedical_data_copy\u001b[0m\u001b[1;33m[\u001b[0m\u001b[1;34m'ScheduledDay'\u001b[0m\u001b[1;33m]\u001b[0m\u001b[1;33m,\u001b[0m \u001b[0maxis\u001b[0m\u001b[1;33m=\u001b[0m\u001b[1;36m0\u001b[0m\u001b[1;33m)\u001b[0m\u001b[1;33m\u001b[0m\u001b[0m\n\u001b[1;32m----> 3\u001b[1;33m \u001b[0mmedical_data_copy\u001b[0m\u001b[1;33m[\u001b[0m\u001b[1;34m'Difference'\u001b[0m\u001b[1;33m]\u001b[0m \u001b[1;33m=\u001b[0m \u001b[0mmedical_data_copy\u001b[0m\u001b[1;33m[\u001b[0m\u001b[1;34m'Difference'\u001b[0m\u001b[1;33m]\u001b[0m\u001b[1;33m.\u001b[0m\u001b[0mastype\u001b[0m\u001b[1;33m(\u001b[0m\u001b[0mdt\u001b[0m\u001b[1;33m.\u001b[0m\u001b[0mtimedelta\u001b[0m\u001b[1;33m)\u001b[0m\u001b[1;33m.\u001b[0m\u001b[0mmap\u001b[0m\u001b[1;33m(\u001b[0m\u001b[1;32mlambda\u001b[0m \u001b[0mx\u001b[0m\u001b[1;33m:\u001b[0m \u001b[0mnp\u001b[0m\u001b[1;33m.\u001b[0m\u001b[0mnan\u001b[0m \u001b[1;32mif\u001b[0m \u001b[0mpd\u001b[0m\u001b[1;33m.\u001b[0m\u001b[0misnull\u001b[0m\u001b[1;33m(\u001b[0m\u001b[0mx\u001b[0m\u001b[1;33m)\u001b[0m \u001b[1;32melse\u001b[0m \u001b[0mx\u001b[0m\u001b[1;33m.\u001b[0m\u001b[0mdays\u001b[0m\u001b[1;33m)\u001b[0m\u001b[1;33m\u001b[0m\u001b[0m\n\u001b[0m\u001b[0;32m      4\u001b[0m \u001b[0mmedical_data_copy\u001b[0m\u001b[1;33m[\u001b[0m\u001b[1;34m'Difference'\u001b[0m\u001b[1;33m]\u001b[0m \u001b[1;33m=\u001b[0m \u001b[0mmedical_data_copy\u001b[0m\u001b[1;33m[\u001b[0m\u001b[1;34m'Difference'\u001b[0m\u001b[1;33m]\u001b[0m\u001b[1;33m+\u001b[0m\u001b[1;36m1\u001b[0m\u001b[1;33m\u001b[0m\u001b[0m\n\u001b[0;32m      5\u001b[0m \u001b[1;33m\u001b[0m\u001b[0m\n",
      "\u001b[1;31mAttributeError\u001b[0m: type object 'datetime.datetime' has no attribute 'timedelta'"
     ]
    }
   ],
   "source": [
    "# Create the difference in days variable for our table\n",
    "medical_data_copy['Difference'] = medical_data_copy['AppointmentDay'].sub(medical_data_copy['ScheduledDay'], axis=0)\n",
    "medical_data_copy['Difference'] = medical_data_copy['Difference'].astype(dt.timedelta).map(lambda x: np.nan if pd.isnull(x) else x.days)\n",
    "medical_data_copy['Difference'] = medical_data_copy['Difference']+1\n",
    "\n",
    "# Create a DV for Gender and Neighbourhoos\n",
    "gender = pd.get_dummies(medical_data_copy['Gender'],drop_first=False)\n",
    "\n",
    "\n",
    "\n",
    "# Remove variables that are not needed for the model\n",
    "medical_data_copy.drop(['AppointmentDay','ScheduledDay','PatientId','AppointmentID','Gender'],axis=1,inplace=True)\n",
    "\n",
    "\n",
    "# Combine our data with the new DV\n",
    "medical_dmy = pd.concat([medical_data_copy,gender],axis=1)\n",
    "\n",
    "# Check the Output\n",
    "print(medical_dmy.head(10))\n"
   ]
  },
  {
   "cell_type": "code",
   "execution_count": 40,
   "metadata": {},
   "outputs": [
    {
     "data": {
      "image/png": "[encoded data removed]",
      "text/plain": [
       "<matplotlib.figure.Figure at 0x20f1db9d588>"
      ]
     },
     "metadata": {},
     "output_type": "display_data"
    }
   ],
   "source": [
    "sb.heatmap(medical_dmy.corr())\n",
    "plt.savefig('Multicollinearity check.png')"
   ]
  },
  {
   "cell_type": "code",
   "execution_count": 38,
   "metadata": {},
   "outputs": [
    {
     "name": "stdout",
     "output_type": "stream",
     "text": [
      "0.79400508473\n",
      "[[26256   275]\n",
      " [ 6491   137]]\n",
      "             precision    recall  f1-score   support\n",
      "\n",
      "          0       0.80      0.99      0.89     26531\n",
      "          1       0.33      0.02      0.04      6628\n",
      "\n",
      "avg / total       0.71      0.80      0.72     33159\n",
      "\n"
     ]
    }
   ],
   "source": [
    "# Assigning our independent and dependent variables\n",
    "X = medical_dmy.loc[:,['Neighbourhood','Age','Difference','F','Scholarship','Alcoholism','Diabetes',]].values\n",
    "y = medical_dmy.loc[:,'No-show'].values\n",
    "\n",
    "# Split data in train and test sets\n",
    "X_train, X_test, y_train, y_test = train_test_split(X, y, test_size = .3, random_state=25)\n",
    "\n",
    "# Fit a logistic regression model\n",
    "LogReg = LogisticRegression()\n",
    "LogReg.fit(X_train, y_train)\n",
    "\n",
    "# Predict the DV using the test set\n",
    "y_pred = LogReg.predict(X_test)\n",
    "\n",
    "from sklearn.metrics import confusion_matrix\n",
    "confusion_matrix = confusion_matrix(y_test, y_pred)\n",
    "\n",
    "# Printing our results\n",
    "print(LogReg.score(X,y))\n",
    "print(confusion_matrix)\n",
    "\n",
    "print(classification_report(y_test, y_pred))"
   ]
  },
  {
   "cell_type": "code",
   "execution_count": 32,
   "metadata": {},
   "outputs": [
    {
     "name": "stdout",
     "output_type": "stream",
     "text": [
      "[ 0.79544015  0.79815435  0.7956211   0.79779245  0.79507826  0.7548177\n",
      "  0.79724962  0.79480684  0.79786464  0.79676047]\n",
      "0.792358557727\n"
     ]
    }
   ],
   "source": [
    "# evaluate the model using 10-fold cross-validation\n",
    "scores = cross_val_score(LogisticRegression(), X, y, scoring='accuracy', cv=10)\n",
    "print (scores)\n",
    "print (scores.mean())"
   ]
  },
  {
   "cell_type": "code",
   "execution_count": 33,
   "metadata": {},
   "outputs": [
    {
     "data": {
      "text/plain": [
       "0.20193255946510807"
      ]
     },
     "execution_count": 33,
     "metadata": {},
     "output_type": "execute_result"
    }
   ],
   "source": [
    "#null errror rate\n",
    "y.mean()"
   ]
  },
  {
   "cell_type": "code",
   "execution_count": 34,
   "metadata": {},
   "outputs": [],
   "source": [
    "# #examine the coefficients\n",
    "# pd.DataFrame(zip(X.columns.values, np.transpose(LogReg.coef_)))"
   ]
  },
  {
   "cell_type": "code",
   "execution_count": 35,
   "metadata": {},
   "outputs": [
    {
     "name": "stdout",
     "output_type": "stream",
     "text": [
      "[0 0 0 ..., 0 0 0]\n"
     ]
    }
   ],
   "source": [
    "# predict class labels for the test set\n",
    "predicted = LogReg.predict(X_test)\n",
    "print(predicted)"
   ]
  },
  {
   "cell_type": "code",
   "execution_count": 36,
   "metadata": {},
   "outputs": [
    {
     "name": "stdout",
     "output_type": "stream",
     "text": [
      "[[ 0.85824133  0.14175867]\n",
      " [ 0.81731744  0.18268256]\n",
      " [ 0.67741836  0.32258164]\n",
      " ..., \n",
      " [ 0.78988805  0.21011195]\n",
      " [ 0.85926804  0.14073196]\n",
      " [ 0.80573306  0.19426694]]\n"
     ]
    }
   ],
   "source": [
    "# generate class probabilities\n",
    "probs = LogReg.predict_proba(X_test)\n",
    "print(probs)"
   ]
  },
  {
   "cell_type": "code",
   "execution_count": 37,
   "metadata": {},
   "outputs": [
    {
     "name": "stdout",
     "output_type": "stream",
     "text": [
      "0.795922675593\n",
      "0.659863652401\n"
     ]
    }
   ],
   "source": [
    "# generate evaluation metrics\n",
    "print (metrics.accuracy_score(y_test, predicted))\n",
    "print (metrics.roc_auc_score(y_test, probs[:, 1]))"
   ]
  },
  {
   "cell_type": "code",
   "execution_count": null,
   "metadata": {
    "collapsed": true
   },
   "outputs": [],
   "source": []
  }
 ],
 "metadata": {
  "kernelspec": {
   "display_name": "Python 3",
   "language": "python",
   "name": "python3"
  },
  "language_info": {
   "codemirror_mode": {
    "name": "ipython",
    "version": 3
   },
   "file_extension": ".py",
   "mimetype": "text/x-python",
   "name": "python",
   "nbconvert_exporter": "python",
   "pygments_lexer": "ipython3",
   "version": "3.6.1"
  }
 },
 "nbformat": 4,
 "nbformat_minor": 2
}
